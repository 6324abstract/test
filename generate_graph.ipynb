{
 "cells": [
  {
   "cell_type": "code",
   "execution_count": null,
   "id": "3709b9f2",
   "metadata": {},
   "outputs": [],
   "source": [
    "\"\"\"generate_graph.py: to build a multipartite representation of cell complex\n",
    "\n",
    "Attributes:\n",
    "\n",
    "\n",
    "Todo:\n",
    "\n",
    "\n",
    "\"\"\"\n",
    "\n",
    "\n",
    "\"\"\"\n",
    "        @Author: Yanzhe LI\n",
    "       \n",
    " \"\"\"\n",
    "\n",
    "\n"
   ]
  }
 ],
 "metadata": {
  "kernelspec": {
   "display_name": "Python 3 (ipykernel)",
   "language": "python",
   "name": "python3"
  },
  "language_info": {
   "codemirror_mode": {
    "name": "ipython",
    "version": 3
   },
   "file_extension": ".py",
   "mimetype": "text/x-python",
   "name": "python",
   "nbconvert_exporter": "python",
   "pygments_lexer": "ipython3",
   "version": "3.9.12"
  }
 },
 "nbformat": 4,
 "nbformat_minor": 5
}
