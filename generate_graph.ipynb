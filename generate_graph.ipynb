{
 "cells": [
  {
   "cell_type": "code",
   "execution_count": 10,
   "id": "3709b9f2",
   "metadata": {
    "pycharm": {
     "name": "#%%\n"
    }
   },
   "outputs": [
    {
     "data": {
      "text/plain": "'\\n        @Author: Yanzhe LI\\n       \\n '"
     },
     "execution_count": 10,
     "metadata": {},
     "output_type": "execute_result"
    }
   ],
   "source": [
    "\"\"\"generate_graph.py: to build a multipartite representation of cell complex\n",
    "\n",
    "Attributes:\n",
    "\n",
    "\n",
    "Todo&Questions:\n",
    "What is the representation of a cell complex, matrix? badly need a input sample\n",
    "\n",
    "\n",
    "\"\"\"\n",
    "\n",
    "\n",
    "\"\"\"\n",
    "        @Author: Yanzhe LI\n",
    "       \n",
    " \"\"\"\n",
    "\n",
    "\n"
   ]
  },
  {
   "cell_type": "code",
   "execution_count": 11,
   "outputs": [
    {
     "data": {
      "text/plain": "<Figure size 432x288 with 1 Axes>",
      "image/png": "[encoded data removed]"
     },
     "metadata": {},
     "output_type": "display_data"
    }
   ],
   "source": [
    "\"\"\"N-partite representation of complex\"\"\"\n",
    "\"\"\"\n",
    "@sample 5 0-cells 5 1-cells 2 2-cell\n",
    "question: number of 2-cell equal to that of circular or triangle?\n",
    "how about 2+cells?\n",
    "\"\"\"\n",
    "import networkx as nx\n",
    "import matplotlib.pyplot as plt\n",
    "\n",
    "edges=[('A','B'),('B','C'),('B','D'),('B','E'),('C','D'),('C','E')]\n",
    "\n",
    "cwComplex=nx.Graph()\n",
    "cwComplex.add_edges_from(edges)\n",
    "\n",
    "nx.draw(cwComplex,with_labels=True)\n",
    "plt.show()\n"
   ],
   "metadata": {
    "collapsed": false,
    "pycharm": {
     "name": "#%%\n"
    }
   }
  },
  {
   "cell_type": "code",
   "execution_count": 12,
   "outputs": [
    {
     "name": "stdout",
     "output_type": "stream",
     "text": [
      "['A', 'B', 'C', 'D', 'E']\n"
     ]
    }
   ],
   "source": [
    "\"\"\"\n",
    "@input assume it as a networkx graph\n",
    "need to tell how many 2+cells from the graph?\n",
    "\"\"\"\n",
    "def npartite_representation(cwC):\n",
    "   zero_cell=cwC.nodes\n",
    "   one_cell =cwC.edges\n",
    "   #two_cell=??\n",
    "\n",
    "   g=nx.Graph()\n",
    "   layers=[zero_cell,one_cell]\n",
    "   for layer in layers:\n",
    "      g.add_nodes_from(layer)\n",
    "      if cwC.has_edge():# check n+1-cell\n",
    "         pass\n",
    "\n"
   ],
   "metadata": {
    "collapsed": false,
    "pycharm": {
     "name": "#%%\n"
    }
   }
  }
 ],
 "metadata": {
  "kernelspec": {
   "display_name": "Python 3 (ipykernel)",
   "language": "python",
   "name": "python3"
  },
  "language_info": {
   "codemirror_mode": {
    "name": "ipython",
    "version": 3
   },
   "file_extension": ".py",
   "mimetype": "text/x-python",
   "name": "python",
   "nbconvert_exporter": "python",
   "pygments_lexer": "ipython3",
   "version": "3.9.12"
  }
 },
 "nbformat": 4,
 "nbformat_minor": 5
}